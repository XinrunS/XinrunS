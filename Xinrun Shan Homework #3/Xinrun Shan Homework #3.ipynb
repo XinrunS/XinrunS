{
 "cells": [
  {
   "cell_type": "markdown",
   "id": "46eb1582",
   "metadata": {},
   "source": [
    "# Question 1: Cost of the event"
   ]
  },
  {
   "cell_type": "markdown",
   "id": "39e526b2",
   "metadata": {},
   "source": [
    "## a) python function:cost_of_event"
   ]
  },
  {
   "cell_type": "code",
   "execution_count": 60,
   "id": "1d0c8e95",
   "metadata": {},
   "outputs": [],
   "source": [
    "def cost_of_event(num_of_people, type=\"wedding\", cost = 450):\n",
    "    if type == \"wedding\":\n",
    "        event_cost = float(num_of_people * cost)\n",
    "    if type == \"corporate\":\n",
    "        event_cost = float(num_of_people * cost * 0.5)\n",
    "    return event_cost"
   ]
  },
  {
   "cell_type": "code",
   "execution_count": 61,
   "id": "adbe7dd6",
   "metadata": {},
   "outputs": [
    {
     "data": {
      "text/plain": [
       "67500.0"
      ]
     },
     "execution_count": 61,
     "metadata": {},
     "output_type": "execute_result"
    }
   ],
   "source": [
    "cost_of_event(150)"
   ]
  },
  {
   "cell_type": "markdown",
   "id": "d05fdfc2",
   "metadata": {},
   "source": [
    "## b) python function: sales_tax"
   ]
  },
  {
   "cell_type": "code",
   "execution_count": 86,
   "id": "648c04e0",
   "metadata": {},
   "outputs": [],
   "source": [
    "def sales_tax(type,total_cost,tax_rate=0.1):\n",
    "    if type in [\"wedding\",\"private\"]:\n",
    "        tax_amount = (total_cost - 1000) * tax_rate\n",
    "    if type == \"corporate\":\n",
    "        tax_amount = total_cost * tax_rate\n",
    "    return tax_amount\n",
    "        "
   ]
  },
  {
   "cell_type": "code",
   "execution_count": 87,
   "id": "abfe1548",
   "metadata": {},
   "outputs": [
    {
     "data": {
      "text/plain": [
       "400.0"
      ]
     },
     "execution_count": 87,
     "metadata": {},
     "output_type": "execute_result"
    }
   ],
   "source": [
    "sales_tax(\"wedding\",5000)"
   ]
  },
  {
   "cell_type": "code",
   "execution_count": 88,
   "id": "1cea4f2f",
   "metadata": {},
   "outputs": [
    {
     "data": {
      "text/plain": [
       "500.0"
      ]
     },
     "execution_count": 88,
     "metadata": {},
     "output_type": "execute_result"
    }
   ],
   "source": [
    "sales_tax(\"corporate\",5000)"
   ]
  },
  {
   "cell_type": "markdown",
   "id": "9a15c8f8",
   "metadata": {},
   "source": [
    "## c) python function: event_calculator"
   ]
  },
  {
   "cell_type": "code",
   "execution_count": 65,
   "id": "d0bb4ec5",
   "metadata": {},
   "outputs": [],
   "source": [
    "def event_calculator(num_of_people, *args,**kwargs):\n",
    "    print(\"Total Number of guests:\",num_of_people)\n",
    "    #for key, value in kwargs.items(): \n",
    "    #    print (\"%s : %s\" %(key, value)) \n",
    "    if len(args) != 0:\n",
    "        type_of_event = args[0]\n",
    "        cost_per_person = args[1]\n",
    "        event = cost_of_event(num_of_people,*args)\n",
    "        print(\"Type of event:\", type_of_event)\n",
    "        print(\"Cost per person:\", cost_per_person)\n",
    "        print(\"-\"*30)\n",
    "        print(\"Cost of event:\",event)\n",
    "        if len(kwargs) != 0:\n",
    "            tax = sales_tax(args[0],args[1]*num_of_people,**kwargs)\n",
    "            total = event + tax\n",
    "            print(\"Sales tax:\", tax)\n",
    "            print(\"-\"*30)\n",
    "            print(\"Total cost:\", total)"
   ]
  },
  {
   "cell_type": "code",
   "execution_count": 66,
   "id": "ce4e25b1",
   "metadata": {},
   "outputs": [
    {
     "name": "stdout",
     "output_type": "stream",
     "text": [
      "Total Number of guests: 100\n",
      "Type of event: corporate\n",
      "Cost per person: 75\n",
      "------------------------------\n",
      "Cost of event: 3750.0\n",
      "Sales tax: 600.0\n",
      "------------------------------\n",
      "Total cost: 4350.0\n"
     ]
    }
   ],
   "source": [
    "event_calculator(100,\"corporate\",75, tax_rate=0.08)"
   ]
  },
  {
   "cell_type": "markdown",
   "id": "6d072293",
   "metadata": {},
   "source": [
    "# Question 2: Error Handling"
   ]
  },
  {
   "cell_type": "markdown",
   "id": "c8a39b92",
   "metadata": {},
   "source": [
    "## 2a"
   ]
  },
  {
   "cell_type": "code",
   "execution_count": 215,
   "id": "9f9a63cf",
   "metadata": {},
   "outputs": [],
   "source": [
    "def event_calculator(num_of_people, *args,**kwargs):\n",
    "    if len(args) != 0:\n",
    "        assert args[1]>0, \"Cost per person should be a positive number\"\n",
    "        assert args[0] in [\"wedding\",\"private\",\"corporate\"], \"Types of events could only be wedding, private or corporate\"\n",
    "        type_of_event = args[0]\n",
    "        cost_per_person = args[1]\n",
    "        event = cost_of_event(num_of_people,*args)\n",
    "        if len(kwargs) != 0:   \n",
    "            tax_rate = kwargs.get(\"tax_rate\")\n",
    "            assert tax_rate > 0 , \"Sales tax ranging from 0 to 25%\"\n",
    "            assert tax_rate < 0.25 , \"Sales tax ranging from 0 to 25%\"\n",
    "            tax = sales_tax(args[0],args[1]*num_of_people,**kwargs)\n",
    "            total = event + tax\n",
    "        print(\"Total Number of guests:\",num_of_people)\n",
    "        print(\"Type of event:\", type_of_event)\n",
    "        print(\"Cost per person:\", cost_per_person)\n",
    "        print(\"-\"*30)\n",
    "        print(\"Cost of event:\",event)\n",
    "        print(\"Sales tax:\", tax)\n",
    "        print(\"-\"*30)\n",
    "        print(\"Total cost:\", total)"
   ]
  },
  {
   "cell_type": "code",
   "execution_count": 204,
   "id": "d9c2ba52",
   "metadata": {
    "scrolled": true
   },
   "outputs": [
    {
     "ename": "AssertionError",
     "evalue": "Types of events could only be wedding, private or corporate",
     "output_type": "error",
     "traceback": [
      "\u001b[0;31m---------------------------------------------------------------------------\u001b[0m",
      "\u001b[0;31mAssertionError\u001b[0m                            Traceback (most recent call last)",
      "\u001b[0;32m<ipython-input-204-d1f563ac6e4a>\u001b[0m in \u001b[0;36m<module>\u001b[0;34m\u001b[0m\n\u001b[0;32m----> 1\u001b[0;31m \u001b[0mevent_calculator\u001b[0m\u001b[0;34m(\u001b[0m\u001b[0;36m100\u001b[0m\u001b[0;34m,\u001b[0m\u001b[0;34m\"bachelor party\"\u001b[0m\u001b[0;34m,\u001b[0m\u001b[0;36m75\u001b[0m\u001b[0;34m,\u001b[0m \u001b[0mtax_rate\u001b[0m\u001b[0;34m=\u001b[0m\u001b[0;36m0.08\u001b[0m\u001b[0;34m)\u001b[0m\u001b[0;34m\u001b[0m\u001b[0;34m\u001b[0m\u001b[0m\n\u001b[0m",
      "\u001b[0;32m<ipython-input-203-14c008be49d2>\u001b[0m in \u001b[0;36mevent_calculator\u001b[0;34m(num_of_people, *args, **kwargs)\u001b[0m\n\u001b[1;32m      2\u001b[0m     \u001b[0;32mif\u001b[0m \u001b[0mlen\u001b[0m\u001b[0;34m(\u001b[0m\u001b[0margs\u001b[0m\u001b[0;34m)\u001b[0m \u001b[0;34m!=\u001b[0m \u001b[0;36m0\u001b[0m\u001b[0;34m:\u001b[0m\u001b[0;34m\u001b[0m\u001b[0;34m\u001b[0m\u001b[0m\n\u001b[1;32m      3\u001b[0m         \u001b[0;32massert\u001b[0m \u001b[0margs\u001b[0m\u001b[0;34m[\u001b[0m\u001b[0;36m1\u001b[0m\u001b[0;34m]\u001b[0m\u001b[0;34m>\u001b[0m\u001b[0;36m0\u001b[0m\u001b[0;34m,\u001b[0m \u001b[0;34m\"Cost per person should be a positive number\"\u001b[0m\u001b[0;34m\u001b[0m\u001b[0;34m\u001b[0m\u001b[0m\n\u001b[0;32m----> 4\u001b[0;31m         \u001b[0;32massert\u001b[0m \u001b[0margs\u001b[0m\u001b[0;34m[\u001b[0m\u001b[0;36m0\u001b[0m\u001b[0;34m]\u001b[0m \u001b[0;32min\u001b[0m \u001b[0;34m[\u001b[0m\u001b[0;34m\"wedding\"\u001b[0m\u001b[0;34m,\u001b[0m\u001b[0;34m\"private\"\u001b[0m\u001b[0;34m,\u001b[0m\u001b[0;34m\"corporate\"\u001b[0m\u001b[0;34m]\u001b[0m\u001b[0;34m,\u001b[0m \u001b[0;34m\"Types of events could only be wedding, private or corporate\"\u001b[0m\u001b[0;34m\u001b[0m\u001b[0;34m\u001b[0m\u001b[0m\n\u001b[0m\u001b[1;32m      5\u001b[0m         \u001b[0mtype_of_event\u001b[0m \u001b[0;34m=\u001b[0m \u001b[0margs\u001b[0m\u001b[0;34m[\u001b[0m\u001b[0;36m0\u001b[0m\u001b[0;34m]\u001b[0m\u001b[0;34m\u001b[0m\u001b[0;34m\u001b[0m\u001b[0m\n\u001b[1;32m      6\u001b[0m         \u001b[0mcost_per_person\u001b[0m \u001b[0;34m=\u001b[0m \u001b[0margs\u001b[0m\u001b[0;34m[\u001b[0m\u001b[0;36m1\u001b[0m\u001b[0;34m]\u001b[0m\u001b[0;34m\u001b[0m\u001b[0;34m\u001b[0m\u001b[0m\n",
      "\u001b[0;31mAssertionError\u001b[0m: Types of events could only be wedding, private or corporate"
     ]
    }
   ],
   "source": [
    "event_calculator(100,\"bachelor party\",75, tax_rate=0.08)"
   ]
  },
  {
   "cell_type": "code",
   "execution_count": 205,
   "id": "aff6a06f",
   "metadata": {},
   "outputs": [
    {
     "ename": "AssertionError",
     "evalue": "Cost per person should be a positive number",
     "output_type": "error",
     "traceback": [
      "\u001b[0;31m---------------------------------------------------------------------------\u001b[0m",
      "\u001b[0;31mAssertionError\u001b[0m                            Traceback (most recent call last)",
      "\u001b[0;32m<ipython-input-205-abe1aaf8db8d>\u001b[0m in \u001b[0;36m<module>\u001b[0;34m\u001b[0m\n\u001b[0;32m----> 1\u001b[0;31m \u001b[0mevent_calculator\u001b[0m\u001b[0;34m(\u001b[0m\u001b[0;36m100\u001b[0m\u001b[0;34m,\u001b[0m\u001b[0;34m\"wedding\"\u001b[0m\u001b[0;34m,\u001b[0m \u001b[0;34m-\u001b[0m\u001b[0;36m10\u001b[0m\u001b[0;34m,\u001b[0m \u001b[0mtax_rate\u001b[0m\u001b[0;34m=\u001b[0m\u001b[0;36m0.08\u001b[0m\u001b[0;34m)\u001b[0m\u001b[0;34m\u001b[0m\u001b[0;34m\u001b[0m\u001b[0m\n\u001b[0m",
      "\u001b[0;32m<ipython-input-203-14c008be49d2>\u001b[0m in \u001b[0;36mevent_calculator\u001b[0;34m(num_of_people, *args, **kwargs)\u001b[0m\n\u001b[1;32m      1\u001b[0m \u001b[0;32mdef\u001b[0m \u001b[0mevent_calculator\u001b[0m\u001b[0;34m(\u001b[0m\u001b[0mnum_of_people\u001b[0m\u001b[0;34m,\u001b[0m \u001b[0;34m*\u001b[0m\u001b[0margs\u001b[0m\u001b[0;34m,\u001b[0m\u001b[0;34m**\u001b[0m\u001b[0mkwargs\u001b[0m\u001b[0;34m)\u001b[0m\u001b[0;34m:\u001b[0m\u001b[0;34m\u001b[0m\u001b[0;34m\u001b[0m\u001b[0m\n\u001b[1;32m      2\u001b[0m     \u001b[0;32mif\u001b[0m \u001b[0mlen\u001b[0m\u001b[0;34m(\u001b[0m\u001b[0margs\u001b[0m\u001b[0;34m)\u001b[0m \u001b[0;34m!=\u001b[0m \u001b[0;36m0\u001b[0m\u001b[0;34m:\u001b[0m\u001b[0;34m\u001b[0m\u001b[0;34m\u001b[0m\u001b[0m\n\u001b[0;32m----> 3\u001b[0;31m         \u001b[0;32massert\u001b[0m \u001b[0margs\u001b[0m\u001b[0;34m[\u001b[0m\u001b[0;36m1\u001b[0m\u001b[0;34m]\u001b[0m\u001b[0;34m>\u001b[0m\u001b[0;36m0\u001b[0m\u001b[0;34m,\u001b[0m \u001b[0;34m\"Cost per person should be a positive number\"\u001b[0m\u001b[0;34m\u001b[0m\u001b[0;34m\u001b[0m\u001b[0m\n\u001b[0m\u001b[1;32m      4\u001b[0m         \u001b[0;32massert\u001b[0m \u001b[0margs\u001b[0m\u001b[0;34m[\u001b[0m\u001b[0;36m0\u001b[0m\u001b[0;34m]\u001b[0m \u001b[0;32min\u001b[0m \u001b[0;34m[\u001b[0m\u001b[0;34m\"wedding\"\u001b[0m\u001b[0;34m,\u001b[0m\u001b[0;34m\"private\"\u001b[0m\u001b[0;34m,\u001b[0m\u001b[0;34m\"corporate\"\u001b[0m\u001b[0;34m]\u001b[0m\u001b[0;34m,\u001b[0m \u001b[0;34m\"Types of events could only be wedding, private or corporate\"\u001b[0m\u001b[0;34m\u001b[0m\u001b[0;34m\u001b[0m\u001b[0m\n\u001b[1;32m      5\u001b[0m         \u001b[0mtype_of_event\u001b[0m \u001b[0;34m=\u001b[0m \u001b[0margs\u001b[0m\u001b[0;34m[\u001b[0m\u001b[0;36m0\u001b[0m\u001b[0;34m]\u001b[0m\u001b[0;34m\u001b[0m\u001b[0;34m\u001b[0m\u001b[0m\n",
      "\u001b[0;31mAssertionError\u001b[0m: Cost per person should be a positive number"
     ]
    }
   ],
   "source": [
    "event_calculator(100,\"wedding\", -10, tax_rate=0.08)"
   ]
  },
  {
   "cell_type": "markdown",
   "id": "f1d93845",
   "metadata": {},
   "source": [
    "## 2b"
   ]
  },
  {
   "cell_type": "code",
   "execution_count": 221,
   "id": "976d55d5",
   "metadata": {},
   "outputs": [],
   "source": [
    "class Error(Exception):\n",
    "    \"\"\"Base class for other exceptions\"\"\"\n",
    "    pass\n",
    "\n",
    "class NegativeCostError(Error):\n",
    "    \"\"\"Raised when the cost per person is negative\"\"\"\n",
    "    pass\n",
    "\n",
    "\n",
    "class SalesTaxError(Error):\n",
    "    \"\"\"Raised when the sales tax is not ranging from 0 to 25%\"\"\"\n",
    "    pass\n",
    "\n",
    "class EventTypeError(Error):\n",
    "    \"\"\"Raised when the types of events you planned for not in your function\"\"\"\n",
    "    pass\n"
   ]
  },
  {
   "cell_type": "code",
   "execution_count": 222,
   "id": "29299d05",
   "metadata": {},
   "outputs": [],
   "source": [
    "def event_calculator(num_of_people, *args,**kwargs):\n",
    "    if len(args) != 0:\n",
    "        try:\n",
    "            if args[1] < 0:\n",
    "                raise NegativeCostError\n",
    "            if args[0] not in [\"wedding\",\"private\",\"corporate\"]:\n",
    "                raise EventTypeError\n",
    "            type_of_event = args[0]\n",
    "            cost_per_person = args[1]\n",
    "            event = cost_of_event(num_of_people,*args)\n",
    "        except (NegativeCostError,EventTypeError) as error:\n",
    "            return(\"Please check your input values.\")\n",
    "        if len(kwargs) != 0:\n",
    "            tax_rate = kwargs.get(\"tax_rate\")\n",
    "            try:\n",
    "                if tax_rate < 0 or tax_rate > 0.25:\n",
    "                    raise SalesTaxError\n",
    "                tax = sales_tax(args[0],args[1]*num_of_people,**kwargs)\n",
    "                total = event + tax\n",
    "            except (SalesTaxError) as error2:\n",
    "                return(\"Please check your input values.\")\n",
    "        print(\"Total Number of guests:\",num_of_people)\n",
    "        print(\"Type of event:\", type_of_event)\n",
    "        print(\"Cost per person:\", cost_per_person)\n",
    "        print(\"-\"*30)\n",
    "        print(\"Cost of event:\",event)\n",
    "        print(\"Sales tax:\", tax)\n",
    "        print(\"-\"*30)\n",
    "        print(\"Total cost:\", total)"
   ]
  },
  {
   "cell_type": "code",
   "execution_count": 223,
   "id": "2e359444",
   "metadata": {},
   "outputs": [
    {
     "data": {
      "text/plain": [
       "'Please check your input values.'"
      ]
     },
     "execution_count": 223,
     "metadata": {},
     "output_type": "execute_result"
    }
   ],
   "source": [
    "event_calculator(100, \"wedding\", 100, tax_rate = -0.08)"
   ]
  },
  {
   "cell_type": "code",
   "execution_count": null,
   "id": "fd976a73",
   "metadata": {},
   "outputs": [],
   "source": []
  }
 ],
 "metadata": {
  "kernelspec": {
   "display_name": "Python 3",
   "language": "python",
   "name": "python3"
  },
  "language_info": {
   "codemirror_mode": {
    "name": "ipython",
    "version": 3
   },
   "file_extension": ".py",
   "mimetype": "text/x-python",
   "name": "python",
   "nbconvert_exporter": "python",
   "pygments_lexer": "ipython3",
   "version": "3.8.8"
  }
 },
 "nbformat": 4,
 "nbformat_minor": 5
}
